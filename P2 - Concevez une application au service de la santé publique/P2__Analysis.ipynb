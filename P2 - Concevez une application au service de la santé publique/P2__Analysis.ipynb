{
 "cells": [
  {
   "cell_type": "markdown",
   "id": "50360e8a",
   "metadata": {},
   "source": [
    "    #  Nettoyage de des donnees \n",
    "    La present notebook regroup le travail necessaire au filtrage et nettoyage de donnes issue de l'initiative Open Food Facts Dans le cadre de l'appel a projets de l'agence Sante Publique France\n",
    "    ## Contexte generale\n",
    "    L'agence Sante Publique france cherche a lancer un appel a projets afin de trouver des idees innovantes en lien avec l'alimentation. Pour se faire, les condidats doivent se baser sur les donees collectees par l'initiative Oopen Food Facts\n",
    "    \n",
    "    Celle-ci est portee par une association a but non lucratif. Cette dernier met a disposition, des consommateurs, une base de donees de produits alimentaire. Chaque entree  peut comporter: \n",
    "    \n",
    "    -- le nom du produit \n",
    "    -- La photo du produit\n",
    "    -- La photo de l'encart detaillant sa composition sur le packaging\n",
    "    -- La photo de l'encart detaillant ses valeurs nutritionnelles sur la packaging \n",
    "    -- Une Analyse des ingredients pouvant indiquer la presence ou non d'huile de plame dans la composition et le caractere vegetarien ou non du produit\n",
    "    -- la liste des Additifs entrant dans la composition du produit\n",
    "    -- Un indiquateur de groupe NOVA indiquant le niveau de transformation du produit allant de 1(non ou peu transformé) a 4(ultra transformé)\n",
    "    -- Un indicateur de nutri-score indiquant la valeur nutritionnelle du produit allant de de A (aliments les plus sains) à E (aliments les moins sains)\n",
    "    -- Les repères nutritionnels pour 100g\n",
    "    -- La taille de la portion\n",
    "    -- Un tableau des informations nutritionnelles globales\n",
    "    -- Un Eco-Score mesurant l'impact environnemental allant de A (faible impact) à E (très fort impact)"
   ]
  },
  {
   "cell_type": "markdown",
   "id": "0a841699",
   "metadata": {},
   "source": [
    "# Importation des données "
   ]
  },
  {
   "cell_type": "code",
   "execution_count": 1,
   "id": "271cd354",
   "metadata": {},
   "outputs": [],
   "source": [
    "import dask.dataframe as dd\n",
    "import numpy as np\n",
    "import pandas as pd\n",
    "import re\n",
    "import IPython.display\n",
    "import matplotlib.pyplot as plt \n",
    "import seaborn as sns\n",
    "plt.style.use(\"seaborn\")\n",
    "%matplotlib inline\n",
    "dtypes = {\n",
    "    \"brand_owner\":object,\n",
    "    \"generic_name\":object,\n",
    "    \"ingredients_from_palm_oil_tags\":object,\n",
    "    \"ingredients_that_may_be_from_palm_oil_tags\":object,\n",
    "    \"origins\":object,\n",
    "    \"origins_en\":object,\n",
    "    \"origins_tags\":object,\n",
    "    \"packaging_text\":object,\n",
    "    \"traces\":object,\n",
    "    \"traces_en\":object,\n",
    "    \"traces_tags\":object,\n",
    "    \"code\":object,\n",
    "    \"abbreviated_product_name\": object\n",
    "    }\n",
    "#data = dd.read_csv(\"data.csv\", sep = \"\\t\", dtype=dtypes, low_memory=False).compute()\n"
   ]
  },
  {
   "cell_type": "code",
   "execution_count": 2,
   "id": "4b01da7d",
   "metadata": {},
   "outputs": [
    {
     "ename": "NameError",
     "evalue": "name 'data' is not defined",
     "output_type": "error",
     "traceback": [
      "\u001b[1;31m---------------------------------------------------------------------------\u001b[0m",
      "\u001b[1;31mNameError\u001b[0m                                 Traceback (most recent call last)",
      "\u001b[1;32m<ipython-input-2-c4815f21b2bd>\u001b[0m in \u001b[0;36m<module>\u001b[1;34m\u001b[0m\n\u001b[1;32m----> 1\u001b[1;33m \u001b[0mdisplay\u001b[0m\u001b[1;33m(\u001b[0m\u001b[0mdata\u001b[0m\u001b[1;33m.\u001b[0m\u001b[0mhead\u001b[0m\u001b[1;33m(\u001b[0m\u001b[1;33m)\u001b[0m\u001b[1;33m)\u001b[0m\u001b[1;33m\u001b[0m\u001b[1;33m\u001b[0m\u001b[0m\n\u001b[0m\u001b[0;32m      2\u001b[0m \u001b[0mprint\u001b[0m\u001b[1;33m(\u001b[0m\u001b[1;34mf\"Dimensions du dataset : nombre d'observations {data.shape[0]} , nombre de variables {data.shape[1]}\"\u001b[0m\u001b[1;33m)\u001b[0m\u001b[1;33m\u001b[0m\u001b[1;33m\u001b[0m\u001b[0m\n",
      "\u001b[1;31mNameError\u001b[0m: name 'data' is not defined"
     ]
    }
   ],
   "source": [
    "display(data.head())\n",
    "print(f\"Dimensions du dataset : nombre d'observations {data.shape[0]} , nombre de variables {data.shape[1]}\")\n"
   ]
  },
  {
   "cell_type": "markdown",
   "id": "25eb707d",
   "metadata": {},
   "source": [
    "#  Analyse des variables\n",
    "A ce stade nous cherchons à déterminer les variables qui sont à la fois :\n",
    "\n",
    "    -- perinentes dans le cadre de l'exploration\n",
    "    -- discriminantes pour catégoriser les observations et dans un second temps\n",
    "    -- qui ont un taux de complétion élevé.\n",
    "Concernant le dernier point, Il est acceptable de considérer des observations qui ont certaines variables non renseignées sous deux conditions:\n",
    "\n",
    "Que pour l'observation la proportion de variables retenues non renseignées soit faible\n",
    "Que globalement le taux de complétion global de chaque variable reste élevé\n",
    "Dans ces deux cas il sera possible d'envisager des stratégies d'imputation pour compléter les valeurs manquantes.\n",
    "\n",
    "Nous commençons par afficher l'ensemble des variables"
   ]
  },
  {
   "cell_type": "code",
   "execution_count": null,
   "id": "ffa90a15",
   "metadata": {},
   "outputs": [],
   "source": []
  }
 ],
 "metadata": {
  "kernelspec": {
   "display_name": "Python 3",
   "language": "python",
   "name": "python3"
  },
  "language_info": {
   "codemirror_mode": {
    "name": "ipython",
    "version": 3
   },
   "file_extension": ".py",
   "mimetype": "text/x-python",
   "name": "python",
   "nbconvert_exporter": "python",
   "pygments_lexer": "ipython3",
   "version": "3.8.8"
  }
 },
 "nbformat": 4,
 "nbformat_minor": 5
}
