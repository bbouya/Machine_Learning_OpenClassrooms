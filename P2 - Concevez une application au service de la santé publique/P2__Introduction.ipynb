{
 "cells": [
  {
   "cell_type": "markdown",
   "id": "50360e8a",
   "metadata": {},
   "source": [
    "# -Introduction\n",
    "l'agence de stante publique France a lance un apel a projets pour trouver\n",
    "des idees innovantes d'applicationq en lien avec l'alimentation\n",
    "Nous avons decidé de nous attaquer a l'obésite.\n",
    "Nous voulons etudier la possiblite qu'une application informe, pour n'importe quel produit,\n",
    "le consommation du caractere Nutriscore.\n",
    "La prediction du Nutriscore doit etre realise a partir de la liste des nutiments du produit.\n",
    "Le Nutriscore est une classification des produits alimentaires, les classes sont nommées par ordre\n",
    "de qualite nutritionnelle de A a E\n"
   ]
  },
  {
   "cell_type": "markdown",
   "id": "0a841699",
   "metadata": {},
   "source": [
    "# Importation des données "
   ]
  },
  {
   "cell_type": "code",
   "execution_count": 1,
   "id": "271cd354",
   "metadata": {},
   "outputs": [],
   "source": [
    "import dask.dataframe as dd\n",
    "import numpy as np\n",
    "import pandas as pd\n",
    "import re\n",
    "import IPython.display\n",
    "import matplotlib.pyplot as plt \n",
    "import seaborn as sns\n",
    "plt.style.use(\"seaborn\")\n",
    "%matplotlib inline\n",
    "dtypes = {\n",
    "    \"brand_owner\":object,\n",
    "    \"generic_name\":object,\n",
    "    \"ingredients_from_palm_oil_tags\":object,\n",
    "    \"ingredients_that_may_be_from_palm_oil_tags\":object,\n",
    "    \"origins\":object,\n",
    "    \"origins_en\":object,\n",
    "    \"origins_tags\":object,\n",
    "    \"packaging_text\":object,\n",
    "    \"traces\":object,\n",
    "    \"traces_en\":object,\n",
    "    \"traces_tags\":object,\n",
    "    \"code\":object,\n",
    "    \"abbreviated_product_name\": object\n",
    "    }\n",
    "#data = dd.read_csv(\"data.csv\", sep = \"\\t\", dtype=dtypes, low_memory=False).compute()\n"
   ]
  },
  {
   "cell_type": "code",
   "execution_count": 2,
   "id": "4b01da7d",
   "metadata": {},
   "outputs": [
    {
     "ename": "NameError",
     "evalue": "name 'data' is not defined",
     "output_type": "error",
     "traceback": [
      "\u001b[1;31m---------------------------------------------------------------------------\u001b[0m",
      "\u001b[1;31mNameError\u001b[0m                                 Traceback (most recent call last)",
      "\u001b[1;32m<ipython-input-2-c4815f21b2bd>\u001b[0m in \u001b[0;36m<module>\u001b[1;34m\u001b[0m\n\u001b[1;32m----> 1\u001b[1;33m \u001b[0mdisplay\u001b[0m\u001b[1;33m(\u001b[0m\u001b[0mdata\u001b[0m\u001b[1;33m.\u001b[0m\u001b[0mhead\u001b[0m\u001b[1;33m(\u001b[0m\u001b[1;33m)\u001b[0m\u001b[1;33m)\u001b[0m\u001b[1;33m\u001b[0m\u001b[1;33m\u001b[0m\u001b[0m\n\u001b[0m\u001b[0;32m      2\u001b[0m \u001b[0mprint\u001b[0m\u001b[1;33m(\u001b[0m\u001b[1;34mf\"Dimensions du dataset : nombre d'observations {data.shape[0]} , nombre de variables {data.shape[1]}\"\u001b[0m\u001b[1;33m)\u001b[0m\u001b[1;33m\u001b[0m\u001b[1;33m\u001b[0m\u001b[0m\n",
      "\u001b[1;31mNameError\u001b[0m: name 'data' is not defined"
     ]
    }
   ],
   "source": [
    "url = r'https://raw.githubusercontent.com/Loridan/openclassrooms-iml-projects/main/project2/en.openfoodfacts.org.products-df5.csv'\n"
   ]
  },
  {
   "cell_type": "markdown",
   "id": "25eb707d",
   "metadata": {},
   "source": [
    "#  Analyse des variables\n",
    "A ce stade nous cherchons à déterminer les variables qui sont à la fois :\n",
    "\n",
    "    -- perinentes dans le cadre de l'exploration\n",
    "    -- discriminantes pour catégoriser les observations et dans un second temps\n",
    "    -- qui ont un taux de complétion élevé.\n",
    "Concernant le dernier point, Il est acceptable de considérer des observations qui ont certaines variables non renseignées sous deux conditions:\n",
    "\n",
    "Que pour l'observation la proportion de variables retenues non renseignées soit faible\n",
    "Que globalement le taux de complétion global de chaque variable reste élevé\n",
    "Dans ces deux cas il sera possible d'envisager des stratégies d'imputation pour compléter les valeurs manquantes.\n",
    "\n",
    "Nous commençons par afficher l'ensemble des variables"
   ]
  },
  {
   "cell_type": "code",
   "execution_count": null,
   "id": "ffa90a15",
   "metadata": {},
   "outputs": [],
   "source": []
  }
 ],
 "metadata": {
  "kernelspec": {
   "display_name": "Python 3",
   "language": "python",
   "name": "python3"
  },
  "language_info": {
   "codemirror_mode": {
    "name": "ipython",
    "version": 3
   },
   "file_extension": ".py",
   "mimetype": "text/x-python",
   "name": "python",
   "nbconvert_exporter": "python",
   "pygments_lexer": "ipython3",
   "version": "3.8.8"
  }
 },
 "nbformat": 4,
 "nbformat_minor": 5
}
