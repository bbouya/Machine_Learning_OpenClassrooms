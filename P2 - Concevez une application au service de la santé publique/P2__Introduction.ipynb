{
 "cells": [
  {
   "cell_type": "markdown",
   "id": "50360e8a",
   "metadata": {},
   "source": [
    "# -Introduction\n",
    "l'agence de stante publique France a lance un apel a projets pour trouver\n",
    "des idees innovantes d'applicationq en lien avec l'alimentation\n",
    "Nous avons decidé de nous attaquer a l'obésite.\n",
    "Nous voulons etudier la possiblite qu'une application informe, pour n'importe quel produit,\n",
    "le consommation du caractere Nutriscore.\n",
    "La prediction du Nutriscore doit etre realise a partir de la liste des nutiments du produit.\n",
    "Le Nutriscore est une classification des produits alimentaires, les classes sont nommées par ordre\n",
    "de qualite nutritionnelle de A a E\n",
    "\n",
    "\n",
    "## Hypothese principal :\n",
    "Est il possibel de predire le Nutriscore a partire de la declaration nutitionnelle obligatoire du produit?\n",
    "La declaration nutritionnelle suivant le reglement INCO\n",
    "\n",
    "## Hypothese secondaires :\n",
    "Pouvons nous classer nos produits en 3 categories: {divers,matieresgrasses ajoutees, boissons}\n",
    "a partir de la declaration nutritionnelle obligatoire du produit? a minima a a partir d'une liste etendue de nutriments?\n",
    "\n",
    "## demarche de resolution:\n",
    "Nous allons devoir resoudre un problem de classification, et donc pour repiondre a ces questions, nous devons analyser notre jeu de donnes pour determiner si les nutriments agissent sur la classe du nutriscore.\n",
    "Pour cela nous allons devoir nous concentrer sur les caracteristiques essentiels:\n",
    "\n",
    "#### Nom des colonnes = [code_barres, nutriscore_grade, energie_100g, matieres_grasses_100g, matieres_grasses_saturees_100g, glucides_100g, glucides_sucres_100g, protein_100g, sel_100g]\n",
    "# jeu de donnees:\n",
    "Open Food FACTS.\n",
    "    * les information generales sur la fiche du produit: nom, date de modification, etc.\n",
    "    * un ensemble de tags: categorie du produit, localisation, origine, etc.\n",
    "    * les ingredients composant les produits et leurs additifs eventuels.\n",
    "    * des informatrion nutritionnelles: quantite en grammes d'un nutriment pour 100 grammes du produit.\n",
    "\n",
    "# Librairies : \n",
    "    * Numpy permet de manipuler des tableaux de nombres uniquement ainsi que des fonctions mathematiqueq operant sur ces tableaux\n",
    "    * pandas etend les possiblites de numpy en permettant de manipuler facilement des tableaux de données mixtes.\n",
    "    * seaborn permet de realiser des graphique et des statistique sir des dataframes de pandas.\n",
    "\n",
    "# Fonctions Helper:\n",
    "Nous allons utiliser ces fonctions d'aides afin de reduire le temps de nettoyage et analyse:\n",
    "    * percentage_nan_by_columns().\n",
    "    * get_colors_from_listedcolormap().\n",
    "    * get_set_of_labels().\n",
    "    * plot_sghisto().\n",
    "    * do_krustal_test().\n",
    "\n",
    "# Collection des donnees :\n",
    "##### Quelle source de donees existe-t-il?\n",
    "il est demande expressement d'utiliser les donnees provenant d'open food Facts.\n",
    "les champs sont separers en quatre section:\n",
    "    * Les informations generales sur la fiche du produit: nom, date de modification, etc?\n",
    "    * Un ensemble de tags: categories du produit, localisation, origine, etc.\n",
    "    * Les ingredients composant les produits et leur additifs eventuels\n",
    "    * Les informations nutritionnelle: quantite en grammes d'un nutriment pour 100 grammes du produit.\n",
    "##### Quelle est la reglementation sur la protection de ces donnees?\n",
    "aucaun , la source de donnees est publique.\n",
    "##### ou sont stockees les donnees?\n",
    "elles sont sur les serveurs distants publiques et sur notre ordinateur en sdd local.\n",
    "##### Quel est le type des donnees :\n",
    "structure\n",
    "\n",
    "\n"
   ]
  },
  {
   "cell_type": "markdown",
   "id": "0a841699",
   "metadata": {},
   "source": [
    "# Importation des données "
   ]
  },
  {
   "cell_type": "code",
   "execution_count": 1,
   "id": "271cd354",
   "metadata": {},
   "outputs": [],
   "source": [
    "import dask.dataframe as dd\n",
    "import numpy as np\n",
    "import pandas as pd\n",
    "import re\n",
    "import IPython.display\n",
    "import matplotlib.pyplot as plt \n",
    "import seaborn as sns\n",
    "plt.style.use(\"seaborn\")\n",
    "%matplotlib inline\n",
    "dtypes = {\n",
    "    \"brand_owner\":object,\n",
    "    \"generic_name\":object,\n",
    "    \"ingredients_from_palm_oil_tags\":object,\n",
    "    \"ingredients_that_may_be_from_palm_oil_tags\":object,\n",
    "    \"origins\":object,\n",
    "    \"origins_en\":object,\n",
    "    \"origins_tags\":object,\n",
    "    \"packaging_text\":object,\n",
    "    \"traces\":object,\n",
    "    \"traces_en\":object,\n",
    "    \"traces_tags\":object,\n",
    "    \"code\":object,\n",
    "    \"abbreviated_product_name\": object\n",
    "    }\n",
    "#data = dd.read_csv(\"data.csv\", sep = \"\\t\", dtype=dtypes, low_memory=False).compute()\n"
   ]
  },
  {
   "cell_type": "code",
   "execution_count": 4,
   "id": "4b01da7d",
   "metadata": {},
   "outputs": [],
   "source": [
    "url = r'https://raw.githubusercontent.com/Loridan/openclassrooms-iml-projects/main/project2/en.openfoodfacts.org.products-df5.csv'\n",
    "dataframe = pd.read_csv(url,sep='\\t')"
   ]
  },
  {
   "cell_type": "code",
   "execution_count": 5,
   "id": "2fd97d1c",
   "metadata": {},
   "outputs": [
    {
     "data": {
      "text/html": [
       "<div>\n",
       "<style scoped>\n",
       "    .dataframe tbody tr th:only-of-type {\n",
       "        vertical-align: middle;\n",
       "    }\n",
       "\n",
       "    .dataframe tbody tr th {\n",
       "        vertical-align: top;\n",
       "    }\n",
       "\n",
       "    .dataframe thead th {\n",
       "        text-align: right;\n",
       "    }\n",
       "</style>\n",
       "<table border=\"1\" class=\"dataframe\">\n",
       "  <thead>\n",
       "    <tr style=\"text-align: right;\">\n",
       "      <th></th>\n",
       "      <th>code_barres,date_creation,nom_produit,categories,countries,nutriscore_score,nutriscore_grade,pnns_groupes_1,pnns_groupes_2,energie_100g,matieres_grasses_100g,matieres_grasses_saturees_100g,glucides_100g,glucides_sucres_100g,fibres_100g,proteines_100g,sel_100g,sodium_100g</th>\n",
       "    </tr>\n",
       "  </thead>\n",
       "  <tbody>\n",
       "    <tr>\n",
       "      <th>0</th>\n",
       "      <td>0000000000100,1970-01-01 00:00:01.444572561, m...</td>\n",
       "    </tr>\n",
       "    <tr>\n",
       "      <th>1</th>\n",
       "      <td>0000000001281,1970-01-01 00:00:01.517830801,Ta...</td>\n",
       "    </tr>\n",
       "    <tr>\n",
       "      <th>2</th>\n",
       "      <td>0000000001885,1970-01-01 00:00:01.511180337,Co...</td>\n",
       "    </tr>\n",
       "    <tr>\n",
       "      <th>3</th>\n",
       "      <td>0000000005470,1970-01-01 00:00:01.511778860,BA...</td>\n",
       "    </tr>\n",
       "    <tr>\n",
       "      <th>4</th>\n",
       "      <td>0000000043595,1970-01-01 00:00:01.489050424,Cr...</td>\n",
       "    </tr>\n",
       "  </tbody>\n",
       "</table>\n",
       "</div>"
      ],
      "text/plain": [
       "  code_barres,date_creation,nom_produit,categories,countries,nutriscore_score,nutriscore_grade,pnns_groupes_1,pnns_groupes_2,energie_100g,matieres_grasses_100g,matieres_grasses_saturees_100g,glucides_100g,glucides_sucres_100g,fibres_100g,proteines_100g,sel_100g,sodium_100g\n",
       "0  0000000000100,1970-01-01 00:00:01.444572561, m...                                                                                                                                                                                                                             \n",
       "1  0000000001281,1970-01-01 00:00:01.517830801,Ta...                                                                                                                                                                                                                             \n",
       "2  0000000001885,1970-01-01 00:00:01.511180337,Co...                                                                                                                                                                                                                             \n",
       "3  0000000005470,1970-01-01 00:00:01.511778860,BA...                                                                                                                                                                                                                             \n",
       "4  0000000043595,1970-01-01 00:00:01.489050424,Cr...                                                                                                                                                                                                                             "
      ]
     },
     "execution_count": 5,
     "metadata": {},
     "output_type": "execute_result"
    }
   ],
   "source": [
    "## Afficher row of data from url\n",
    "dataframe.head()"
   ]
  },
  {
   "cell_type": "markdown",
   "id": "e334b38a",
   "metadata": {},
   "source": [
    "Le chargment des donness retourne un evertissement sur la presence de tye different dans la colonne 0\n",
    "le code a barre est realite une chaine de caractere, car certains sont trop longs pour etre stoches en type dloat 64 par le syteme\n"
   ]
  },
  {
   "cell_type": "markdown",
   "id": "25eb707d",
   "metadata": {},
   "source": [
    "# Import des fonctions"
   ]
  },
  {
   "cell_type": "code",
   "execution_count": null,
   "id": "ffa90a15",
   "metadata": {},
   "outputs": [],
   "source": [
    "# Retourne une serie comportant le pourcentage de valeurs manquantes pour chaques conlonnes du plateforme\n",
    "\n",
    "def percentage_nan_by_columns(df):\n",
    "    s = df.isnull().sum(axis=0) / dataframe.shap[0] * 100\n",
    "    s = s.transform(lambda x:'{:02.2f}'.format(x) + '%')\n",
    "    return s\n"
   ]
  }
 ],
 "metadata": {
  "kernelspec": {
   "display_name": "Python 3",
   "language": "python",
   "name": "python3"
  },
  "language_info": {
   "codemirror_mode": {
    "name": "ipython",
    "version": 3
   },
   "file_extension": ".py",
   "mimetype": "text/x-python",
   "name": "python",
   "nbconvert_exporter": "python",
   "pygments_lexer": "ipython3",
   "version": "3.8.8"
  }
 },
 "nbformat": 4,
 "nbformat_minor": 5
}
